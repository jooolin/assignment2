{
 "cells": [
  {
   "cell_type": "markdown",
   "id": "d6dd999f-6363-44f1-952d-c94b93978c95",
   "metadata": {},
   "source": [
    "# Data Science Tools and Ecosystem"
   ]
  },
  {
   "cell_type": "markdown",
   "id": "b1c3a623-fe46-4a3e-8445-ca52292f5594",
   "metadata": {},
   "source": [
    "In this notebook, Data Science Tools and Ecosystem are summarized."
   ]
  },
  {
   "cell_type": "markdown",
   "id": "2fa4b9b3-880c-484d-a8e0-baa9abaae8ae",
   "metadata": {},
   "source": [
    "**Objectives:**\n",
    "* List popular languages for Data Science\n",
    "* List commonly used libraries for Data Science\n",
    "* Data Science tools\n",
    "* Examples of arithmetic expressions in Python"
   ]
  },
  {
   "cell_type": "markdown",
   "id": "f3788072-1360-41c5-8628-859067c78dec",
   "metadata": {},
   "source": [
    "Some of the popular languages that Data Scientists use are:\n",
    "1. Python\n",
    "2. R\n",
    "3. SQL"
   ]
  },
  {
   "cell_type": "markdown",
   "id": "f692d08f-bcdb-43bb-a5a3-12948785f515",
   "metadata": {},
   "source": [
    "Some of the commonly used libraries used by Data Scientists include:\n",
    "1. Pandas\n",
    "2. NumPy\n",
    "3. Keras"
   ]
  },
  {
   "cell_type": "markdown",
   "id": "3d9b36e3-1ec9-46c7-a753-f19faccf1fa6",
   "metadata": {},
   "source": [
    "| Data Science Tools |\n",
    "| --- |\n",
    "| Github |\n",
    "| Jupyter notebooks |\n",
    "| Rstudio |"
   ]
  },
  {
   "cell_type": "markdown",
   "id": "027e53fe-453d-4dc5-87e3-09791622cfb4",
   "metadata": {},
   "source": [
    "### Below are a few examples of evaluating arithmetic expressions in Python"
   ]
  },
  {
   "cell_type": "code",
   "execution_count": 1,
   "id": "db406f60-d25f-49aa-b42a-bccf49fd7e40",
   "metadata": {},
   "outputs": [
    {
     "data": {
      "text/plain": [
       "17"
      ]
     },
     "execution_count": 1,
     "metadata": {},
     "output_type": "execute_result"
    }
   ],
   "source": [
    "(3*4)+5"
   ]
  },
  {
   "cell_type": "code",
   "execution_count": 21,
   "id": "94446e23-d322-49f1-8dc5-e0d170078384",
   "metadata": {},
   "outputs": [
    {
     "name": "stdout",
     "output_type": "stream",
     "text": [
      "200 minutes = 3.33 hours\n"
     ]
    }
   ],
   "source": [
    "# This will convert 200 minutes to hours by diving by 60\n",
    "input = 200\n",
    "output = round(input/60, 2)\n",
    "print(input, \"minutes =\", output, \"hours\")"
   ]
  },
  {
   "cell_type": "markdown",
   "id": "f66101e3-403e-4015-b875-bf7f26382b8d",
   "metadata": {},
   "source": [
    "## Author\n",
    "Jolin Chan"
   ]
  },
  {
   "cell_type": "code",
   "execution_count": null,
   "id": "d21c40b2-0a94-400c-82bf-8c58593070de",
   "metadata": {},
   "outputs": [],
   "source": []
  }
 ],
 "metadata": {
  "kernelspec": {
   "display_name": "Python",
   "language": "python",
   "name": "conda-env-python-py"
  },
  "language_info": {
   "codemirror_mode": {
    "name": "ipython",
    "version": 3
   },
   "file_extension": ".py",
   "mimetype": "text/x-python",
   "name": "python",
   "nbconvert_exporter": "python",
   "pygments_lexer": "ipython3",
   "version": "3.7.12"
  }
 },
 "nbformat": 4,
 "nbformat_minor": 5
}
